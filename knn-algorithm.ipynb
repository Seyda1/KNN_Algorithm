{
 "cells": [
  {
   "cell_type": "code",
   "execution_count": 1,
   "metadata": {
    "_cell_guid": "b1076dfc-b9ad-4769-8c92-a6c4dae69d19",
    "_uuid": "8f2839f25d086af736a60e9eeb907d3b93b6e0e5",
    "execution": {
     "iopub.execute_input": "2021-02-09T20:26:38.814899Z",
     "iopub.status.busy": "2021-02-09T20:26:38.813988Z",
     "iopub.status.idle": "2021-02-09T20:26:38.829263Z",
     "shell.execute_reply": "2021-02-09T20:26:38.828524Z"
    },
    "papermill": {
     "duration": 0.032761,
     "end_time": "2021-02-09T20:26:38.829506",
     "exception": false,
     "start_time": "2021-02-09T20:26:38.796745",
     "status": "completed"
    },
    "tags": []
   },
   "outputs": [
    {
     "name": "stdout",
     "output_type": "stream",
     "text": [
      "/kaggle/input/biomechanical-features-of-orthopedic-patients/column_3C_weka.csv\n",
      "/kaggle/input/biomechanical-features-of-orthopedic-patients/column_2C_weka.csv\n"
     ]
    }
   ],
   "source": [
    "# This Python 3 environment comes with many helpful analytics libraries installed\n",
    "# It is defined by the kaggle/python Docker image: https://github.com/kaggle/docker-python\n",
    "# For example, here's several helpful packages to load\n",
    "\n",
    "import numpy as np # linear algebra\n",
    "import pandas as pd # data processing, CSV file I/O (e.g. pd.read_csv)\n",
    "import matplotlib.pyplot as plt\n",
    "\n",
    "# Input data files are available in the read-only \"../input/\" directory\n",
    "# For example, running this (by clicking run or pressing Shift+Enter) will list all files under the input directory\n",
    "\n",
    "import os\n",
    "for dirname, _, filenames in os.walk('/kaggle/input'):\n",
    "    for filename in filenames:\n",
    "        print(os.path.join(dirname, filename))\n",
    "\n",
    "# You can write up to 20GB to the current directory (/kaggle/working/) that gets preserved as output when you create a version using \"Save & Run All\" \n",
    "# You can also write temporary files to /kaggle/temp/, but they won't be saved outside of the current session"
   ]
  },
  {
   "cell_type": "code",
   "execution_count": 2,
   "metadata": {
    "execution": {
     "iopub.execute_input": "2021-02-09T20:26:38.854403Z",
     "iopub.status.busy": "2021-02-09T20:26:38.853635Z",
     "iopub.status.idle": "2021-02-09T20:26:38.871289Z",
     "shell.execute_reply": "2021-02-09T20:26:38.871897Z"
    },
    "papermill": {
     "duration": 0.032479,
     "end_time": "2021-02-09T20:26:38.872123",
     "exception": false,
     "start_time": "2021-02-09T20:26:38.839644",
     "status": "completed"
    },
    "tags": []
   },
   "outputs": [],
   "source": [
    "data=pd.read_csv(\"/kaggle/input/biomechanical-features-of-orthopedic-patients/column_2C_weka.csv\")"
   ]
  },
  {
   "cell_type": "code",
   "execution_count": 3,
   "metadata": {
    "execution": {
     "iopub.execute_input": "2021-02-09T20:26:38.894730Z",
     "iopub.status.busy": "2021-02-09T20:26:38.894050Z",
     "iopub.status.idle": "2021-02-09T20:26:38.921785Z",
     "shell.execute_reply": "2021-02-09T20:26:38.922322Z"
    },
    "papermill": {
     "duration": 0.041141,
     "end_time": "2021-02-09T20:26:38.922546",
     "exception": false,
     "start_time": "2021-02-09T20:26:38.881405",
     "status": "completed"
    },
    "tags": []
   },
   "outputs": [
    {
     "name": "stdout",
     "output_type": "stream",
     "text": [
      "<class 'pandas.core.frame.DataFrame'>\n",
      "RangeIndex: 310 entries, 0 to 309\n",
      "Data columns (total 7 columns):\n",
      " #   Column                    Non-Null Count  Dtype  \n",
      "---  ------                    --------------  -----  \n",
      " 0   pelvic_incidence          310 non-null    float64\n",
      " 1   pelvic_tilt numeric       310 non-null    float64\n",
      " 2   lumbar_lordosis_angle     310 non-null    float64\n",
      " 3   sacral_slope              310 non-null    float64\n",
      " 4   pelvic_radius             310 non-null    float64\n",
      " 5   degree_spondylolisthesis  310 non-null    float64\n",
      " 6   class                     310 non-null    object \n",
      "dtypes: float64(6), object(1)\n",
      "memory usage: 17.1+ KB\n"
     ]
    }
   ],
   "source": [
    "data.info() #to see our data"
   ]
  },
  {
   "cell_type": "code",
   "execution_count": 4,
   "metadata": {
    "execution": {
     "iopub.execute_input": "2021-02-09T20:26:38.948743Z",
     "iopub.status.busy": "2021-02-09T20:26:38.947924Z",
     "iopub.status.idle": "2021-02-09T20:26:38.968532Z",
     "shell.execute_reply": "2021-02-09T20:26:38.967923Z"
    },
    "papermill": {
     "duration": 0.036765,
     "end_time": "2021-02-09T20:26:38.968786",
     "exception": false,
     "start_time": "2021-02-09T20:26:38.932021",
     "status": "completed"
    },
    "tags": []
   },
   "outputs": [
    {
     "data": {
      "text/html": [
       "<div>\n",
       "<style scoped>\n",
       "    .dataframe tbody tr th:only-of-type {\n",
       "        vertical-align: middle;\n",
       "    }\n",
       "\n",
       "    .dataframe tbody tr th {\n",
       "        vertical-align: top;\n",
       "    }\n",
       "\n",
       "    .dataframe thead th {\n",
       "        text-align: right;\n",
       "    }\n",
       "</style>\n",
       "<table border=\"1\" class=\"dataframe\">\n",
       "  <thead>\n",
       "    <tr style=\"text-align: right;\">\n",
       "      <th></th>\n",
       "      <th>pelvic_incidence</th>\n",
       "      <th>pelvic_tilt numeric</th>\n",
       "      <th>lumbar_lordosis_angle</th>\n",
       "      <th>sacral_slope</th>\n",
       "      <th>pelvic_radius</th>\n",
       "      <th>degree_spondylolisthesis</th>\n",
       "      <th>class</th>\n",
       "    </tr>\n",
       "  </thead>\n",
       "  <tbody>\n",
       "    <tr>\n",
       "      <th>0</th>\n",
       "      <td>63.027817</td>\n",
       "      <td>22.552586</td>\n",
       "      <td>39.609117</td>\n",
       "      <td>40.475232</td>\n",
       "      <td>98.672917</td>\n",
       "      <td>-0.254400</td>\n",
       "      <td>Abnormal</td>\n",
       "    </tr>\n",
       "    <tr>\n",
       "      <th>1</th>\n",
       "      <td>39.056951</td>\n",
       "      <td>10.060991</td>\n",
       "      <td>25.015378</td>\n",
       "      <td>28.995960</td>\n",
       "      <td>114.405425</td>\n",
       "      <td>4.564259</td>\n",
       "      <td>Abnormal</td>\n",
       "    </tr>\n",
       "    <tr>\n",
       "      <th>2</th>\n",
       "      <td>68.832021</td>\n",
       "      <td>22.218482</td>\n",
       "      <td>50.092194</td>\n",
       "      <td>46.613539</td>\n",
       "      <td>105.985135</td>\n",
       "      <td>-3.530317</td>\n",
       "      <td>Abnormal</td>\n",
       "    </tr>\n",
       "    <tr>\n",
       "      <th>3</th>\n",
       "      <td>69.297008</td>\n",
       "      <td>24.652878</td>\n",
       "      <td>44.311238</td>\n",
       "      <td>44.644130</td>\n",
       "      <td>101.868495</td>\n",
       "      <td>11.211523</td>\n",
       "      <td>Abnormal</td>\n",
       "    </tr>\n",
       "    <tr>\n",
       "      <th>4</th>\n",
       "      <td>49.712859</td>\n",
       "      <td>9.652075</td>\n",
       "      <td>28.317406</td>\n",
       "      <td>40.060784</td>\n",
       "      <td>108.168725</td>\n",
       "      <td>7.918501</td>\n",
       "      <td>Abnormal</td>\n",
       "    </tr>\n",
       "  </tbody>\n",
       "</table>\n",
       "</div>"
      ],
      "text/plain": [
       "   pelvic_incidence  pelvic_tilt numeric  lumbar_lordosis_angle  sacral_slope  \\\n",
       "0         63.027817            22.552586              39.609117     40.475232   \n",
       "1         39.056951            10.060991              25.015378     28.995960   \n",
       "2         68.832021            22.218482              50.092194     46.613539   \n",
       "3         69.297008            24.652878              44.311238     44.644130   \n",
       "4         49.712859             9.652075              28.317406     40.060784   \n",
       "\n",
       "   pelvic_radius  degree_spondylolisthesis     class  \n",
       "0      98.672917                 -0.254400  Abnormal  \n",
       "1     114.405425                  4.564259  Abnormal  \n",
       "2     105.985135                 -3.530317  Abnormal  \n",
       "3     101.868495                 11.211523  Abnormal  \n",
       "4     108.168725                  7.918501  Abnormal  "
      ]
     },
     "execution_count": 4,
     "metadata": {},
     "output_type": "execute_result"
    }
   ],
   "source": [
    "data.head() #first five row"
   ]
  },
  {
   "cell_type": "code",
   "execution_count": 5,
   "metadata": {
    "execution": {
     "iopub.execute_input": "2021-02-09T20:26:38.998699Z",
     "iopub.status.busy": "2021-02-09T20:26:38.997746Z",
     "iopub.status.idle": "2021-02-09T20:26:39.001521Z",
     "shell.execute_reply": "2021-02-09T20:26:39.002206Z"
    },
    "papermill": {
     "duration": 0.02282,
     "end_time": "2021-02-09T20:26:39.002420",
     "exception": false,
     "start_time": "2021-02-09T20:26:38.979600",
     "status": "completed"
    },
    "tags": []
   },
   "outputs": [],
   "source": [
    "#converting \"class\" labels string to integer\n",
    "data[\"class\"]= [0 if i == \"Abnormal\" else 1 for i in data[\"class\"]]\n",
    "\n",
    "x=data.drop([\"class\"], axis=1) # all features except \"class\".\n",
    "y=data[\"class\"].values.reshape(-1,1)\n",
    "     \n"
   ]
  },
  {
   "cell_type": "markdown",
   "metadata": {
    "papermill": {
     "duration": 0.010025,
     "end_time": "2021-02-09T20:26:39.022955",
     "exception": false,
     "start_time": "2021-02-09T20:26:39.012930",
     "status": "completed"
    },
    "tags": []
   },
   "source": [
    "Normalization in KNN:\n",
    "\n",
    "The goal of normalization is to change the values of numeric columns in the dataset to a common scale, without distorting differences in the ranges of values. This scale can be between 0 and 1.\n",
    "\n",
    "some values may dominate other values. So to prevent this situation, we use normalization.\n"
   ]
  },
  {
   "cell_type": "code",
   "execution_count": 6,
   "metadata": {
    "execution": {
     "iopub.execute_input": "2021-02-09T20:26:39.047272Z",
     "iopub.status.busy": "2021-02-09T20:26:39.046553Z",
     "iopub.status.idle": "2021-02-09T20:26:39.072055Z",
     "shell.execute_reply": "2021-02-09T20:26:39.071414Z"
    },
    "papermill": {
     "duration": 0.038917,
     "end_time": "2021-02-09T20:26:39.072238",
     "exception": false,
     "start_time": "2021-02-09T20:26:39.033321",
     "status": "completed"
    },
    "tags": []
   },
   "outputs": [],
   "source": [
    "X=(x-np.min(x))/(np.max(x)-np.min(x))"
   ]
  },
  {
   "cell_type": "code",
   "execution_count": 7,
   "metadata": {
    "execution": {
     "iopub.execute_input": "2021-02-09T20:26:39.099563Z",
     "iopub.status.busy": "2021-02-09T20:26:39.098816Z",
     "iopub.status.idle": "2021-02-09T20:26:40.165748Z",
     "shell.execute_reply": "2021-02-09T20:26:40.165113Z"
    },
    "papermill": {
     "duration": 1.083059,
     "end_time": "2021-02-09T20:26:40.165932",
     "exception": false,
     "start_time": "2021-02-09T20:26:39.082873",
     "status": "completed"
    },
    "tags": []
   },
   "outputs": [],
   "source": [
    "#train test split\n",
    "from sklearn.model_selection import train_test_split\n",
    "x_train, x_test, y_train,y_test=train_test_split(X,y,test_size=0.3,random_state=2)\n",
    "\n"
   ]
  },
  {
   "cell_type": "markdown",
   "metadata": {
    "papermill": {
     "duration": 0.01063,
     "end_time": "2021-02-09T20:26:40.187623",
     "exception": false,
     "start_time": "2021-02-09T20:26:40.176993",
     "status": "completed"
    },
    "tags": []
   },
   "source": [
    "What is KNN?\n",
    "\n",
    "KNN is a classification algorithm. \n",
    "We have four steps for this algorithm.\n",
    "1-)Choose the K value\n",
    "2-)Find closest data points\n",
    "3-)Find out which class the nearest neighbor points belong to\n",
    "4-)Find out which class the point which we test belong to\n",
    "\n"
   ]
  },
  {
   "cell_type": "code",
   "execution_count": 8,
   "metadata": {
    "execution": {
     "iopub.execute_input": "2021-02-09T20:26:40.215661Z",
     "iopub.status.busy": "2021-02-09T20:26:40.214857Z",
     "iopub.status.idle": "2021-02-09T20:26:40.396587Z",
     "shell.execute_reply": "2021-02-09T20:26:40.397208Z"
    },
    "papermill": {
     "duration": 0.198787,
     "end_time": "2021-02-09T20:26:40.397422",
     "exception": false,
     "start_time": "2021-02-09T20:26:40.198635",
     "status": "completed"
    },
    "tags": []
   },
   "outputs": [
    {
     "name": "stderr",
     "output_type": "stream",
     "text": [
      "/opt/conda/lib/python3.7/site-packages/ipykernel_launcher.py:4: DataConversionWarning: A column-vector y was passed when a 1d array was expected. Please change the shape of y to (n_samples, ), for example using ravel().\n",
      "  after removing the cwd from sys.path.\n"
     ]
    }
   ],
   "source": [
    "#knn\n",
    "from sklearn.neighbors import KNeighborsClassifier\n",
    "knn= KNeighborsClassifier(n_neighbors=3)\n",
    "knn.fit(x_train,y_train)\n",
    "prediction=knn.predict(x_test)\n"
   ]
  },
  {
   "cell_type": "code",
   "execution_count": 9,
   "metadata": {
    "execution": {
     "iopub.execute_input": "2021-02-09T20:26:40.429137Z",
     "iopub.status.busy": "2021-02-09T20:26:40.428074Z",
     "iopub.status.idle": "2021-02-09T20:26:40.439082Z",
     "shell.execute_reply": "2021-02-09T20:26:40.438380Z"
    },
    "papermill": {
     "duration": 0.030794,
     "end_time": "2021-02-09T20:26:40.439265",
     "exception": false,
     "start_time": "2021-02-09T20:26:40.408471",
     "status": "completed"
    },
    "tags": []
   },
   "outputs": [
    {
     "name": "stdout",
     "output_type": "stream",
     "text": [
      "Accuracy for 3 : 0.7526881720430108\n"
     ]
    }
   ],
   "source": [
    "#Accuracy\n",
    "print(\"Accuracy for {} : {}\".format(3,knn.score(x_test,y_test)))"
   ]
  },
  {
   "cell_type": "code",
   "execution_count": 10,
   "metadata": {
    "execution": {
     "iopub.execute_input": "2021-02-09T20:26:40.476637Z",
     "iopub.status.busy": "2021-02-09T20:26:40.475609Z",
     "iopub.status.idle": "2021-02-09T20:26:40.869307Z",
     "shell.execute_reply": "2021-02-09T20:26:40.868532Z"
    },
    "papermill": {
     "duration": 0.418402,
     "end_time": "2021-02-09T20:26:40.869488",
     "exception": false,
     "start_time": "2021-02-09T20:26:40.451086",
     "status": "completed"
    },
    "tags": []
   },
   "outputs": [
    {
     "name": "stderr",
     "output_type": "stream",
     "text": [
      "/opt/conda/lib/python3.7/site-packages/ipykernel_launcher.py:6: DataConversionWarning: A column-vector y was passed when a 1d array was expected. Please change the shape of y to (n_samples, ), for example using ravel().\n",
      "  \n",
      "/opt/conda/lib/python3.7/site-packages/ipykernel_launcher.py:6: DataConversionWarning: A column-vector y was passed when a 1d array was expected. Please change the shape of y to (n_samples, ), for example using ravel().\n",
      "  \n",
      "/opt/conda/lib/python3.7/site-packages/ipykernel_launcher.py:6: DataConversionWarning: A column-vector y was passed when a 1d array was expected. Please change the shape of y to (n_samples, ), for example using ravel().\n",
      "  \n",
      "/opt/conda/lib/python3.7/site-packages/ipykernel_launcher.py:6: DataConversionWarning: A column-vector y was passed when a 1d array was expected. Please change the shape of y to (n_samples, ), for example using ravel().\n",
      "  \n",
      "/opt/conda/lib/python3.7/site-packages/ipykernel_launcher.py:6: DataConversionWarning: A column-vector y was passed when a 1d array was expected. Please change the shape of y to (n_samples, ), for example using ravel().\n",
      "  \n",
      "/opt/conda/lib/python3.7/site-packages/ipykernel_launcher.py:6: DataConversionWarning: A column-vector y was passed when a 1d array was expected. Please change the shape of y to (n_samples, ), for example using ravel().\n",
      "  \n",
      "/opt/conda/lib/python3.7/site-packages/ipykernel_launcher.py:6: DataConversionWarning: A column-vector y was passed when a 1d array was expected. Please change the shape of y to (n_samples, ), for example using ravel().\n",
      "  \n",
      "/opt/conda/lib/python3.7/site-packages/ipykernel_launcher.py:6: DataConversionWarning: A column-vector y was passed when a 1d array was expected. Please change the shape of y to (n_samples, ), for example using ravel().\n",
      "  \n",
      "/opt/conda/lib/python3.7/site-packages/ipykernel_launcher.py:6: DataConversionWarning: A column-vector y was passed when a 1d array was expected. Please change the shape of y to (n_samples, ), for example using ravel().\n",
      "  \n",
      "/opt/conda/lib/python3.7/site-packages/ipykernel_launcher.py:6: DataConversionWarning: A column-vector y was passed when a 1d array was expected. Please change the shape of y to (n_samples, ), for example using ravel().\n",
      "  \n",
      "/opt/conda/lib/python3.7/site-packages/ipykernel_launcher.py:6: DataConversionWarning: A column-vector y was passed when a 1d array was expected. Please change the shape of y to (n_samples, ), for example using ravel().\n",
      "  \n",
      "/opt/conda/lib/python3.7/site-packages/ipykernel_launcher.py:6: DataConversionWarning: A column-vector y was passed when a 1d array was expected. Please change the shape of y to (n_samples, ), for example using ravel().\n",
      "  \n",
      "/opt/conda/lib/python3.7/site-packages/ipykernel_launcher.py:6: DataConversionWarning: A column-vector y was passed when a 1d array was expected. Please change the shape of y to (n_samples, ), for example using ravel().\n",
      "  \n",
      "/opt/conda/lib/python3.7/site-packages/ipykernel_launcher.py:6: DataConversionWarning: A column-vector y was passed when a 1d array was expected. Please change the shape of y to (n_samples, ), for example using ravel().\n",
      "  \n"
     ]
    },
    {
     "data": {
      "image/png": "[encoded data removed]",
      "text/plain": [
       "<Figure size 432x288 with 1 Axes>"
      ]
     },
     "metadata": {
      "needs_background": "light"
     },
     "output_type": "display_data"
    }
   ],
   "source": [
    "#Finding best k value:\n",
    "\n",
    "score_list=[]\n",
    "for i in range(1,15):\n",
    "    knn2 = KNeighborsClassifier(n_neighbors=i)\n",
    "    knn2.fit(x_train,y_train)\n",
    "    score_list.append(knn2.score(x_test,y_test))\n",
    "\n",
    "plt.plot(range(1,15),score_list)\n",
    "plt.xlabel(\"k values\")\n",
    "plt.ylabel(\"Accuracy\")\n",
    "plt.show()"
   ]
  },
  {
   "cell_type": "markdown",
   "metadata": {
    "papermill": {
     "duration": 0.013015,
     "end_time": "2021-02-09T20:26:40.896663",
     "exception": false,
     "start_time": "2021-02-09T20:26:40.883648",
     "status": "completed"
    },
    "tags": []
   },
   "source": [
    "So we can see that the best k value is 11."
   ]
  }
 ],
 "metadata": {
  "kernelspec": {
   "display_name": "Python 3",
   "language": "python",
   "name": "python3"
  },
  "language_info": {
   "codemirror_mode": {
    "name": "ipython",
    "version": 3
   },
   "file_extension": ".py",
   "mimetype": "text/x-python",
   "name": "python",
   "nbconvert_exporter": "python",
   "pygments_lexer": "ipython3",
   "version": "3.7.9"
  },
  "papermill": {
   "default_parameters": {},
   "duration": 9.521887,
   "end_time": "2021-02-09T20:26:41.721737",
   "environment_variables": {},
   "exception": null,
   "input_path": "__notebook__.ipynb",
   "output_path": "__notebook__.ipynb",
   "parameters": {},
   "start_time": "2021-02-09T20:26:32.199850",
   "version": "2.2.2"
  }
 },
 "nbformat": 4,
 "nbformat_minor": 4
}
